{
 "cells": [
  {
   "cell_type": "markdown",
   "metadata": {},
   "source": [
    "Pre-requisite:\n",
    "Create a `.env` file in the root folder based on `.env.sample` and enter the required information."
   ]
  },
  {
   "cell_type": "code",
   "execution_count": 16,
   "metadata": {},
   "outputs": [
    {
     "data": {
      "text/plain": [
       "True"
      ]
     },
     "execution_count": 16,
     "metadata": {},
     "output_type": "execute_result"
    }
   ],
   "source": [
    "import os\n",
    "from dotenv import load_dotenv\n",
    "\n",
    "load_dotenv(\".env\")"
   ]
  },
  {
   "cell_type": "code",
   "execution_count": 17,
   "metadata": {},
   "outputs": [],
   "source": [
    "from sqlalchemy import create_engine\n",
    "import pandas as pd\n",
    "\n",
    "driver = '{ODBC Driver 17 for SQL Server}'\n",
    "odbc_str = 'mssql+pyodbc:///?odbc_connect=' \\\n",
    "                'Driver='+driver+ \\\n",
    "                ';Server=tcp:' + os.getenv(\"SQL_SERVER\")+'.database.windows.net;PORT=1433' + \\\n",
    "                ';DATABASE=' + os.getenv(\"SQL_DB\") + \\\n",
    "                ';Uid=' + os.getenv(\"SQL_USERNAME\")+ \\\n",
    "                ';Pwd=' + os.getenv(\"SQL_PWD\") + \\\n",
    "                ';Encrypt=yes;TrustServerCertificate=no;Connection Timeout=30;'\n",
    "db_engine = create_engine(odbc_str)"
   ]
  },
  {
   "cell_type": "code",
   "execution_count": 18,
   "metadata": {},
   "outputs": [],
   "source": [
    "from langchain.chat_models import AzureChatOpenAI\n",
    "\n",
    "llm = AzureChatOpenAI(model=os.getenv(\"OPENAI_CHAT_MODEL\"),\n",
    "                      deployment_name=os.getenv(\"OPENAI_CHAT_MODEL\"),\n",
    "                      temperature=0)"
   ]
  },
  {
   "cell_type": "code",
   "execution_count": 31,
   "metadata": {},
   "outputs": [],
   "source": [
    "from langchain.prompts.chat import ChatPromptTemplate\n",
    "from langchain.prompts import FewShotChatMessagePromptTemplate\n",
    "\n",
    "\n",
    "final_prompt = ChatPromptTemplate.from_messages(\n",
    "    [\n",
    "        (\"system\", \n",
    "         \"\"\"\n",
    "         You are a helpful AI assistant expert in querying SQL Database to find answers to user's question about Categories, Products and Orders.\n",
    "         'Product' table contains information about products including product name, description, product price and product category.\n",
    "         'Category' table contains information about categories including category name and description. Each Product is mapped to a Category.\n",
    "         'Orders' table contains information about orders placed by customers including \n",
    "         quantity or number of products ordered,\n",
    "         expected delivery date and actual delivery date of the Order in the location\n",
    "         and the status of the order. \n",
    "         Order status = 'Processing' means the order is being processed by seller and not yet shipped,\n",
    "         Order status = 'Shipped' means the order is shipped by the seller and is on the way to the customer,\n",
    "         Order status = 'Completed' means the order is delivered to the customer, and \n",
    "         Order status = 'Cancelled' means the order is cancelled by the customer.\n",
    "\n",
    "         Identify the table and column names in the database that contain the information needed to answer the user's question. \n",
    "         Make a summation of the column name including 'quantity' if the question is about number of product.\n",
    "        \"\"\"\n",
    "         ),\n",
    "        (\"human: \", \"{question}\\n ai: \"),\n",
    "    ]\n",
    ")"
   ]
  },
  {
   "cell_type": "code",
   "execution_count": 20,
   "metadata": {},
   "outputs": [],
   "source": [
    "from langchain.agents import AgentType, create_sql_agent\n",
    "from langchain.sql_database import SQLDatabase\n",
    "from langchain.agents.agent_toolkits.sql.toolkit import SQLDatabaseToolkit\n",
    "\n",
    "db = SQLDatabase(db_engine)\n",
    "\n",
    "sql_toolkit = SQLDatabaseToolkit(db=db, llm=llm)\n",
    "sql_toolkit.get_tools()\n",
    "\n",
    "sqldb_agent = create_sql_agent(\n",
    "    llm=llm,\n",
    "    toolkit=sql_toolkit,\n",
    "    agent_type=AgentType.ZERO_SHOT_REACT_DESCRIPTION,\n",
    "    verbose=True,\n",
    "    top_p=0\n",
    ")"
   ]
  },
  {
   "cell_type": "code",
   "execution_count": 32,
   "metadata": {},
   "outputs": [
    {
     "name": "stdout",
     "output_type": "stream",
     "text": [
      "\n",
      "\n",
      "\u001b[1m> Entering new AgentExecutor chain...\u001b[0m\n",
      "\u001b[32;1m\u001b[1;3mAction: sql_db_list_tables\n",
      "Action Input: \"\"\u001b[0m\n",
      "Observation: \u001b[38;5;200m\u001b[1;3mCategory, Orders, Product, sysdiagrams\u001b[0m\n",
      "Thought:\u001b[32;1m\u001b[1;3mThe relevant tables in the database are Category, Orders, and Product. I should query the schema of these tables to find the relevant columns.\n",
      "Action: sql_db_schema\n",
      "Action Input: \"Category, Orders, Product\"\u001b[0m\n",
      "Observation: \u001b[33;1m\u001b[1;3m\n",
      "CREATE TABLE [Category] (\n",
      "\t[CategoryId] INTEGER NOT NULL IDENTITY(1,1), \n",
      "\t[CategoryName] VARCHAR(max) COLLATE SQL_Latin1_General_CP1_CI_AS NOT NULL, \n",
      "\tCONSTRAINT [PK__Category__19093A0B02B89A54] PRIMARY KEY ([CategoryId])\n",
      ")\n",
      "\n",
      "/*\n",
      "3 rows from Category table:\n",
      "CategoryId\tCategoryName\n",
      "1\tKitchen\n",
      "2\tSports\n",
      "3\tGardening\n",
      "*/\n",
      "\n",
      "\n",
      "CREATE TABLE [Orders] (\n",
      "\t[OrderId] INTEGER NOT NULL IDENTITY(1,1), \n",
      "\t[ProductId] INTEGER NULL, \n",
      "\t[OrderCreationDate] DATETIME NOT NULL, \n",
      "\t[ProductOrderedQuantity] INTEGER NOT NULL, \n",
      "\t[OrderStatus] VARCHAR(max) COLLATE SQL_Latin1_General_CP1_CI_AS NOT NULL, \n",
      "\t[OrderDeliveryLocation] VARCHAR(max) COLLATE SQL_Latin1_General_CP1_CI_AS NOT NULL, \n",
      "\t[OrderDeliveryExpectedDate] DATETIME NOT NULL, \n",
      "\t[OrderDeliveryActualDate] DATETIME NULL, \n",
      "\tCONSTRAINT [PK__Orders__C3905BCF61D2B5A4] PRIMARY KEY ([OrderId]), \n",
      "\tCONSTRAINT [FK__Orders__ProductI__3587F3E0] FOREIGN KEY([ProductId]) REFERENCES [Product] ([ProductId])\n",
      ")\n",
      "\n",
      "/*\n",
      "3 rows from Orders table:\n",
      "OrderId\tProductId\tOrderCreationDate\tProductOrderedQuantity\tOrderStatus\tOrderDeliveryLocation\tOrderDeliveryExpectedDate\tOrderDeliveryActualDate\n",
      "1\t1\t2023-09-27 14:10:50.153000\t5\tShipped\tNJ\t2023-10-02 14:10:50.153000\tNone\n",
      "2\t12\t2023-09-17 14:10:50.153000\t1\tCompleted\tCA\t2023-09-24 14:10:50.153000\t2023-09-27 14:10:50.153000\n",
      "3\t13\t2023-08-28 14:10:50.153000\t2\tCompleted\tCA\t2023-08-31 14:10:50.153000\t2023-08-30 14:10:50.153000\n",
      "*/\n",
      "\n",
      "\n",
      "CREATE TABLE [Product] (\n",
      "\t[ProductId] INTEGER NOT NULL IDENTITY(1,1), \n",
      "\t[ProductName] VARCHAR(max) COLLATE SQL_Latin1_General_CP1_CI_AS NOT NULL, \n",
      "\t[CategoryId] INTEGER NULL, \n",
      "\t[ProductDescription] VARCHAR(max) COLLATE SQL_Latin1_General_CP1_CI_AS NULL, \n",
      "\t[ProductBasePrice] DECIMAL(10, 2) NOT NULL, \n",
      "\t[ProductAvailableQuantity] INTEGER NOT NULL, \n",
      "\tCONSTRAINT [PK__Product__B40CC6CD060652C2] PRIMARY KEY ([ProductId]), \n",
      "\tCONSTRAINT [FK__Product__Categor__32AB8735] FOREIGN KEY([CategoryId]) REFERENCES [Category] ([CategoryId])\n",
      ")\n",
      "\n",
      "/*\n",
      "3 rows from Product table:\n",
      "ProductId\tProductName\tCategoryId\tProductDescription\tProductBasePrice\tProductAvailableQuantity\n",
      "1\tPressure Cooker\t1\tCook rice, daal, khichdi\t1125.00\t10\n",
      "2\tFlower pot\t3\t\t120.00\t227\n",
      "3\tBat\t2\tCricket\t250.00\t55\n",
      "*/\u001b[0m\n",
      "Thought:\u001b[32;1m\u001b[1;3mTo answer the question, I need to find the number of Kitchen products sold in the current month. I can do this by joining the Product and Orders tables and filtering for Kitchen products and the current month.\n",
      "\n",
      "Action: sql_db_query_checker\n",
      "Action Input: \"SELECT COUNT(*) FROM Product p JOIN Orders o ON p.ProductId = o.ProductId WHERE p.CategoryId = 1 AND MONTH(o.OrderCreationDate) = MONTH(GETDATE())\"\u001b[0m\n",
      "Observation: \u001b[36;1m\u001b[1;3mSELECT COUNT(*) \n",
      "FROM Product p \n",
      "JOIN Orders o ON p.ProductId = o.ProductId \n",
      "WHERE p.CategoryId = 1 \n",
      "AND MONTH(o.OrderCreationDate) = MONTH(GETDATE())\u001b[0m\n",
      "Thought:\u001b[32;1m\u001b[1;3mThe query is syntactically correct and should give me the count of Kitchen products sold in the current month.\n",
      "\n",
      "Action: sql_db_query\n",
      "Action Input: \"SELECT COUNT(*) FROM Product p JOIN Orders o ON p.ProductId = o.ProductId WHERE p.CategoryId = 1 AND MONTH(o.OrderCreationDate) = MONTH(GETDATE())\"\u001b[0m\n",
      "Observation: \u001b[36;1m\u001b[1;3m[(2,)]\u001b[0m\n",
      "Thought:\u001b[32;1m\u001b[1;3mThe query returned the count of 2, which means that 2 Kitchen products were sold in the current month.\n",
      "\n",
      "Final Answer: 2\u001b[0m\n",
      "\n",
      "\u001b[1m> Finished chain.\u001b[0m\n"
     ]
    },
    {
     "data": {
      "text/plain": [
       "'2'"
      ]
     },
     "execution_count": 32,
     "metadata": {},
     "output_type": "execute_result"
    }
   ],
   "source": [
    "sqldb_agent.run(final_prompt.format(question =\"How many Kitchen products were sold in current month?\"))\n"
   ]
  },
  {
   "cell_type": "code",
   "execution_count": 22,
   "metadata": {},
   "outputs": [
    {
     "name": "stdout",
     "output_type": "stream",
     "text": [
      "\n",
      "\n",
      "\u001b[1m> Entering new AgentExecutor chain...\u001b[0m\n",
      "\u001b[32;1m\u001b[1;3mAction: sql_db_list_tables\n",
      "Action Input: \"\"\u001b[0m\n",
      "Observation: \u001b[38;5;200m\u001b[1;3mCategory, Orders, Product, sysdiagrams\u001b[0m\n",
      "Thought:\u001b[32;1m\u001b[1;3mI see that there are four tables in the database: Category, Orders, Product, and sysdiagrams. I should query the Orders table to find the number of orders that have not been shipped yet.\n",
      "Action: sql_db_schema\n",
      "Action Input: \"Orders\"\u001b[0m\n",
      "Observation: \u001b[33;1m\u001b[1;3m\n",
      "CREATE TABLE [Orders] (\n",
      "\t[OrderId] INTEGER NOT NULL IDENTITY(1,1), \n",
      "\t[ProductId] INTEGER NULL, \n",
      "\t[OrderCreationDate] DATETIME NOT NULL, \n",
      "\t[ProductOrderedQuantity] INTEGER NOT NULL, \n",
      "\t[OrderStatus] VARCHAR(max) COLLATE SQL_Latin1_General_CP1_CI_AS NOT NULL, \n",
      "\t[OrderDeliveryLocation] VARCHAR(max) COLLATE SQL_Latin1_General_CP1_CI_AS NOT NULL, \n",
      "\t[OrderDeliveryExpectedDate] DATETIME NOT NULL, \n",
      "\t[OrderDeliveryActualDate] DATETIME NULL, \n",
      "\tCONSTRAINT [PK__Orders__C3905BCF61D2B5A4] PRIMARY KEY ([OrderId]), \n",
      "\tCONSTRAINT [FK__Orders__ProductI__3587F3E0] FOREIGN KEY([ProductId]) REFERENCES [Product] ([ProductId])\n",
      ")\n",
      "\n",
      "/*\n",
      "3 rows from Orders table:\n",
      "OrderId\tProductId\tOrderCreationDate\tProductOrderedQuantity\tOrderStatus\tOrderDeliveryLocation\tOrderDeliveryExpectedDate\tOrderDeliveryActualDate\n",
      "1\t1\t2023-09-27 14:10:50.153000\t5\tShipped\tNJ\t2023-10-02 14:10:50.153000\tNone\n",
      "2\t12\t2023-09-17 14:10:50.153000\t1\tCompleted\tCA\t2023-09-24 14:10:50.153000\t2023-09-27 14:10:50.153000\n",
      "3\t13\t2023-08-28 14:10:50.153000\t2\tCompleted\tCA\t2023-08-31 14:10:50.153000\t2023-08-30 14:10:50.153000\n",
      "*/\u001b[0m\n",
      "Thought:\u001b[32;1m\u001b[1;3mI can see that the Orders table contains the information I need. I should query the Orders table to find the number of orders that have not been shipped yet.\n",
      "Action: sql_db_query\n",
      "Action Input: \"SELECT COUNT(*) FROM Orders WHERE OrderStatus = 'Processing'\"\u001b[0m\n",
      "Observation: \u001b[36;1m\u001b[1;3m[(4,)]\u001b[0m\n",
      "Thought:\u001b[32;1m\u001b[1;3mThe query returned a count of 4, which means there are 4 orders that have not been shipped yet.\n",
      "Final Answer: There are 4 orders that have not been shipped yet.\u001b[0m\n",
      "\n",
      "\u001b[1m> Finished chain.\u001b[0m\n"
     ]
    },
    {
     "data": {
      "text/plain": [
       "'There are 4 orders that have not been shipped yet.'"
      ]
     },
     "execution_count": 22,
     "metadata": {},
     "output_type": "execute_result"
    }
   ],
   "source": [
    "sqldb_agent.run(final_prompt.format(question=\"How many orders have not been shipped yet?\"))"
   ]
  },
  {
   "cell_type": "code",
   "execution_count": 23,
   "metadata": {},
   "outputs": [
    {
     "name": "stdout",
     "output_type": "stream",
     "text": [
      "\n",
      "\n",
      "\u001b[1m> Entering new AgentExecutor chain...\u001b[0m\n",
      "\u001b[32;1m\u001b[1;3mAction: sql_db_list_tables\n",
      "Action Input: \"\"\u001b[0m\n",
      "Observation: \u001b[38;5;200m\u001b[1;3mCategory, Orders, Product, sysdiagrams\u001b[0m\n",
      "Thought:\u001b[32;1m\u001b[1;3mI see that there are four tables in the database: Category, Orders, Product, and sysdiagrams. I should query the schema of the Orders table to see what columns are available.\n",
      "Action: sql_db_schema\n",
      "Action Input: \"Orders\"\u001b[0m\n",
      "Observation: \u001b[33;1m\u001b[1;3m\n",
      "CREATE TABLE [Orders] (\n",
      "\t[OrderId] INTEGER NOT NULL IDENTITY(1,1), \n",
      "\t[ProductId] INTEGER NULL, \n",
      "\t[OrderCreationDate] DATETIME NOT NULL, \n",
      "\t[ProductOrderedQuantity] INTEGER NOT NULL, \n",
      "\t[OrderStatus] VARCHAR(max) COLLATE SQL_Latin1_General_CP1_CI_AS NOT NULL, \n",
      "\t[OrderDeliveryLocation] VARCHAR(max) COLLATE SQL_Latin1_General_CP1_CI_AS NOT NULL, \n",
      "\t[OrderDeliveryExpectedDate] DATETIME NOT NULL, \n",
      "\t[OrderDeliveryActualDate] DATETIME NULL, \n",
      "\tCONSTRAINT [PK__Orders__C3905BCF61D2B5A4] PRIMARY KEY ([OrderId]), \n",
      "\tCONSTRAINT [FK__Orders__ProductI__3587F3E0] FOREIGN KEY([ProductId]) REFERENCES [Product] ([ProductId])\n",
      ")\n",
      "\n",
      "/*\n",
      "3 rows from Orders table:\n",
      "OrderId\tProductId\tOrderCreationDate\tProductOrderedQuantity\tOrderStatus\tOrderDeliveryLocation\tOrderDeliveryExpectedDate\tOrderDeliveryActualDate\n",
      "1\t1\t2023-09-27 14:10:50.153000\t5\tShipped\tNJ\t2023-10-02 14:10:50.153000\tNone\n",
      "2\t12\t2023-09-17 14:10:50.153000\t1\tCompleted\tCA\t2023-09-24 14:10:50.153000\t2023-09-27 14:10:50.153000\n",
      "3\t13\t2023-08-28 14:10:50.153000\t2\tCompleted\tCA\t2023-08-31 14:10:50.153000\t2023-08-30 14:10:50.153000\n",
      "*/\u001b[0m\n",
      "Thought:\u001b[32;1m\u001b[1;3mI can see that the Orders table contains the necessary information to answer the question. I need to find the number of orders that were delivered late last month. To do this, I will query the Orders table for orders with a status of 'Completed' and an actual delivery date that is later than the expected delivery date.\n",
      "\n",
      "Action: sql_db_query\n",
      "Action Input: \"SELECT COUNT(*) FROM Orders WHERE OrderStatus = 'Completed' AND OrderDeliveryActualDate > OrderDeliveryExpectedDate AND MONTH(OrderDeliveryActualDate) = MONTH(DATEADD(MONTH, -1, GETDATE()))\"\u001b[0m\n",
      "Observation: \u001b[36;1m\u001b[1;3m[(1,)]\u001b[0m\n",
      "Thought:\u001b[32;1m\u001b[1;3mThe query returned a count of 1, indicating that there was 1 order delivered late last month.\n",
      "\n",
      "Final Answer: There was 1 order delivered late last month.\u001b[0m\n",
      "\n",
      "\u001b[1m> Finished chain.\u001b[0m\n"
     ]
    },
    {
     "data": {
      "text/plain": [
       "'There was 1 order delivered late last month.'"
      ]
     },
     "execution_count": 23,
     "metadata": {},
     "output_type": "execute_result"
    }
   ],
   "source": [
    "sqldb_agent.run(final_prompt.format(question=\"How many orders were delivered late last month?\"))"
   ]
  },
  {
   "cell_type": "code",
   "execution_count": 24,
   "metadata": {},
   "outputs": [
    {
     "name": "stdout",
     "output_type": "stream",
     "text": [
      "\n",
      "\n",
      "\u001b[1m> Entering new AgentExecutor chain...\u001b[0m\n",
      "\u001b[32;1m\u001b[1;3mAction: sql_db_list_tables\n",
      "Action Input: \"\"\u001b[0m\n",
      "Observation: \u001b[38;5;200m\u001b[1;3mCategory, Orders, Product, sysdiagrams\u001b[0m\n",
      "Thought:\u001b[32;1m\u001b[1;3mI can query the Product and Orders tables to find the top 3 products sold last month. I should check the schema of these tables to see the relevant columns.\n",
      "Action: sql_db_schema\n",
      "Action Input: \"Product, Orders\"\u001b[0m\n",
      "Observation: \u001b[33;1m\u001b[1;3m\n",
      "CREATE TABLE [Orders] (\n",
      "\t[OrderId] INTEGER NOT NULL IDENTITY(1,1), \n",
      "\t[ProductId] INTEGER NULL, \n",
      "\t[OrderCreationDate] DATETIME NOT NULL, \n",
      "\t[ProductOrderedQuantity] INTEGER NOT NULL, \n",
      "\t[OrderStatus] VARCHAR(max) COLLATE SQL_Latin1_General_CP1_CI_AS NOT NULL, \n",
      "\t[OrderDeliveryLocation] VARCHAR(max) COLLATE SQL_Latin1_General_CP1_CI_AS NOT NULL, \n",
      "\t[OrderDeliveryExpectedDate] DATETIME NOT NULL, \n",
      "\t[OrderDeliveryActualDate] DATETIME NULL, \n",
      "\tCONSTRAINT [PK__Orders__C3905BCF61D2B5A4] PRIMARY KEY ([OrderId]), \n",
      "\tCONSTRAINT [FK__Orders__ProductI__3587F3E0] FOREIGN KEY([ProductId]) REFERENCES [Product] ([ProductId])\n",
      ")\n",
      "\n",
      "/*\n",
      "3 rows from Orders table:\n",
      "OrderId\tProductId\tOrderCreationDate\tProductOrderedQuantity\tOrderStatus\tOrderDeliveryLocation\tOrderDeliveryExpectedDate\tOrderDeliveryActualDate\n",
      "1\t1\t2023-09-27 14:10:50.153000\t5\tShipped\tNJ\t2023-10-02 14:10:50.153000\tNone\n",
      "2\t12\t2023-09-17 14:10:50.153000\t1\tCompleted\tCA\t2023-09-24 14:10:50.153000\t2023-09-27 14:10:50.153000\n",
      "3\t13\t2023-08-28 14:10:50.153000\t2\tCompleted\tCA\t2023-08-31 14:10:50.153000\t2023-08-30 14:10:50.153000\n",
      "*/\n",
      "\n",
      "\n",
      "CREATE TABLE [Product] (\n",
      "\t[ProductId] INTEGER NOT NULL IDENTITY(1,1), \n",
      "\t[ProductName] VARCHAR(max) COLLATE SQL_Latin1_General_CP1_CI_AS NOT NULL, \n",
      "\t[CategoryId] INTEGER NULL, \n",
      "\t[ProductDescription] VARCHAR(max) COLLATE SQL_Latin1_General_CP1_CI_AS NULL, \n",
      "\t[ProductBasePrice] DECIMAL(10, 2) NOT NULL, \n",
      "\t[ProductAvailableQuantity] INTEGER NOT NULL, \n",
      "\tCONSTRAINT [PK__Product__B40CC6CD060652C2] PRIMARY KEY ([ProductId]), \n",
      "\tCONSTRAINT [FK__Product__Categor__32AB8735] FOREIGN KEY([CategoryId]) REFERENCES [Category] ([CategoryId])\n",
      ")\n",
      "\n",
      "/*\n",
      "3 rows from Product table:\n",
      "ProductId\tProductName\tCategoryId\tProductDescription\tProductBasePrice\tProductAvailableQuantity\n",
      "1\tPressure Cooker\t1\tCook rice, daal, khichdi\t1125.00\t10\n",
      "2\tFlower pot\t3\t\t120.00\t227\n",
      "3\tBat\t2\tCricket\t250.00\t55\n",
      "*/\u001b[0m\n",
      "Thought:\u001b[32;1m\u001b[1;3mI can join the Product and Orders tables on the ProductId column to get the product name and quantity sold. I should filter the orders based on the order creation date being in the last month. I can order the results by the quantity sold in descending order and limit the results to 3.\n",
      "Action: sql_db_query\n",
      "Action Input: \"SELECT TOP 3 p.ProductName, o.ProductOrderedQuantity\n",
      "              FROM Product p\n",
      "              JOIN Orders o ON p.ProductId = o.ProductId\n",
      "              WHERE o.OrderCreationDate >= DATEADD(MONTH, -1, GETDATE())\n",
      "              ORDER BY o.ProductOrderedQuantity DESC\"\u001b[0m\n",
      "Observation: \u001b[36;1m\u001b[1;3m[('Seed', 20), ('Seed', 5), ('Ladle', 5)]\u001b[0m\n",
      "Thought:\u001b[32;1m\u001b[1;3mThe top 3 products sold last month are 'Seed' with a quantity of 20, 'Seed' with a quantity of 5, and 'Ladle' with a quantity of 5.\n",
      "Final Answer: The top 3 products sold last month are 'Seed' with a quantity of 20, 'Seed' with a quantity of 5, and 'Ladle' with a quantity of 5.\u001b[0m\n",
      "\n",
      "\u001b[1m> Finished chain.\u001b[0m\n"
     ]
    },
    {
     "data": {
      "text/plain": [
       "\"The top 3 products sold last month are 'Seed' with a quantity of 20, 'Seed' with a quantity of 5, and 'Ladle' with a quantity of 5.\""
      ]
     },
     "execution_count": 24,
     "metadata": {},
     "output_type": "execute_result"
    }
   ],
   "source": [
    "sqldb_agent.run(final_prompt.format(question=\"What are the top 3 products sold last month? Provide the product name and the quantity sold.\"))"
   ]
  },
  {
   "cell_type": "code",
   "execution_count": null,
   "metadata": {},
   "outputs": [],
   "source": []
  }
 ],
 "metadata": {
  "kernelspec": {
   "display_name": "Python 3",
   "language": "python",
   "name": "python3"
  },
  "language_info": {
   "codemirror_mode": {
    "name": "ipython",
    "version": 3
   },
   "file_extension": ".py",
   "mimetype": "text/x-python",
   "name": "python",
   "nbconvert_exporter": "python",
   "pygments_lexer": "ipython3",
   "version": "3.10.11"
  },
  "orig_nbformat": 4
 },
 "nbformat": 4,
 "nbformat_minor": 2
}
